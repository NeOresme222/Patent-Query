{
 "cells": [
  {
   "cell_type": "code",
   "execution_count": 1,
   "metadata": {},
   "outputs": [],
   "source": [
    "''' Import Initially Relevant Functions/Classes '''\n",
    "\n",
    "import pandas as pd\n",
    "import numpy as np\n",
    "from lxml import objectify\n",
    "import xml.etree.ElementTree as et \n",
    "\n",
    "from collections import defaultdict\n",
    "from sklearn.metrics import mean_squared_error, confusion_matrix, log_loss, make_scorer\n",
    "from sklearn.linear_model import LogisticRegression\n",
    "from sklearn.naive_bayes import GaussianNB, BernoulliNB, MultinomialNB\n",
    "from sklearn.tree import DecisionTreeRegressor, DecisionTreeClassifier\n",
    "from sklearn.ensemble import RandomForestRegressor, RandomForestClassifier, GradientBoostingClassifier\n",
    "from sklearn.linear_model import SGDClassifier\n",
    "\n",
    "\n",
    "import matplotlib.pyplot as plt\n",
    "plt.style.use('ggplot')"
   ]
  },
  {
   "cell_type": "markdown",
   "metadata": {},
   "source": [
    "# General CPC Categorization\n",
    "\n",
    "\n",
    "A:     Human Necessities  \n",
    "\n",
    "B:     Performing Operations, Transporting  \n",
    "\n",
    "C:     Chemistry, Metallurgy  \n",
    "\n",
    "D:     Textiles, Paper  \n",
    "\n",
    "E:     Fixed Constructions  \n",
    "\n",
    "F:     Mechanical Engineering; Heating, Lighting, Weapons, Blasting  \n",
    "\n",
    "G:     Physics  \n",
    "\n",
    "H:     Electricity  \n",
    "\n",
    "Y:     GENERAL TAGGING OF NEW TECHNOLOGICAL DEVELOPMENTS; GENERAL TAGGING OF CROSS-SECTIONAL TECHNOLOGIES SPANNING OVER SEVERAL SECTIONS OF THE IPC; TECHNICAL SUBJECTS COVERED BY FORMER USPC CROSS-REFERENCE ART COLLECTIONS [XRACs] AND DIGESTS  \n",
    "\n",
    "\n",
    "# https://www.uspto.gov/web/patents/classification/cpc/html/cpc.html \n",
    "\n",
    "# https://developer.uspto.gov/product/patent-application-full-text-dataxml#:~:text=USPTO%20Datasets&text=The%20file%20format%20is%20eXtensible,Document%20Type%20Definition%20(DTD)"
   ]
  },
  {
   "cell_type": "code",
   "execution_count": 2,
   "metadata": {},
   "outputs": [
    {
     "data": {
      "text/plain": [
       "'Seperate individual XML files from USPTO caches (in terminal)'"
      ]
     },
     "execution_count": 2,
     "metadata": {},
     "output_type": "execute_result"
    }
   ],
   "source": [
    "'''Seperate individual XML files from USPTO caches (in terminal)''' \n",
    "\n",
    "    #csplit -f 'patent-' -b '%02d.xml' ipgb20191226.xml '/^<?xml /' '{*}'"
   ]
  },
  {
   "cell_type": "code",
   "execution_count": 3,
   "metadata": {},
   "outputs": [],
   "source": [
    "def make_df(path):\n",
    "    ''' \n",
    "    Creates a Pandas DataFrame from single xml file from the United States Postal and Trademark Office given a pre-specified set of criteria.\n",
    "    \n",
    "    Input: file path\n",
    "    \n",
    "    Output: a Pandas DataFrame with columns:\n",
    "        title, country, doc_number, section, class1, date, abstract, description \n",
    "    \n",
    "    '''\n",
    "    \n",
    "    xtree = et.parse(path)\n",
    "    xroot = xtree.getroot()\n",
    "    \n",
    "    title = ''\n",
    "    country = ''\n",
    "    doc_number = ''\n",
    "    section = ''\n",
    "    class1 = ''\n",
    "    date = ''\n",
    "    abstract = ''\n",
    "    description = ''\n",
    "\n",
    "    for A in xroot:\n",
    "        if A.tag == 'us-bibliographic-data-application':\n",
    "            for a1 in A:\n",
    "                if a1.tag == 'publication-reference':\n",
    "                    for a2 in a1:\n",
    "                        if a2.tag == 'document-id':\n",
    "                            for a3 in a2:\n",
    "                                if a3.tag == 'country':\n",
    "                                    country += a3.text\n",
    "                                if a3.tag == 'doc-number':\n",
    "                                    doc_number += a3.text\n",
    "                                if a3.tag == 'date':\n",
    "                                    date += a3.text\n",
    "            \n",
    "                if a1.tag == 'classifications-cpc':\n",
    "                    for a2 in a1:\n",
    "                        if a2.tag == 'main-cpc':\n",
    "                            for a3 in a2:\n",
    "                                if a3.tag == 'classification-cpc':\n",
    "                                    for a4 in a3:\n",
    "                                        if a4.tag == 'section':\n",
    "                                            section += a4.text\n",
    "                                        if a4.tag == 'class':\n",
    "                                            class1 += a4.text\n",
    "                        \n",
    "                if a1.tag == 'invention-title':\n",
    "                    title += a1.text\n",
    "                \n",
    "        if A.tag == 'abstract':\n",
    "            for a1 in A:\n",
    "                if type(a1.text) == str: \n",
    "                    abstract += a1.text\n",
    "    \n",
    "        if A.tag == 'description':\n",
    "            for a1 in A:\n",
    "                if type(a1.text) == str: \n",
    "                    description += ' ' + a1.text\n",
    "    \n",
    "    \n",
    "    df = pd.DataFrame({'title' : [title],\n",
    "                  'country' : [country],\n",
    "                  'doc_number' : [doc_number],\n",
    "                   'section' : [section],\n",
    "                   'class' : [class1],\n",
    "                  'date' : [date],\n",
    "                  'total_text' : [abstract + description]})\n",
    "    \n",
    "    \n",
    "    return(df)"
   ]
  },
  {
   "cell_type": "code",
   "execution_count": 4,
   "metadata": {},
   "outputs": [],
   "source": [
    "def get_print(path):\n",
    "    ''' \n",
    "    Creates rudimentary text schema from single United States Postal and Trademark Office xml file given a pre-specified set of criteria.\n",
    "    \n",
    "    Input: file path\n",
    "    \n",
    "    Output: A text schema of four relative layers. \n",
    "    \n",
    "    '''\n",
    "    xtree = et.parse(path)\n",
    "    xroot = xtree.getroot() \n",
    "\n",
    "    for index, item in enumerate(xroot):\n",
    "        print(index, ',', item.tag, ':', item.text)\n",
    "        if item.tag == 'us-bibliographic-data-application':\n",
    "            for i1, a in enumerate(item):\n",
    "                print('    ', i1, ',', a.tag, ':', a.text)\n",
    "                if a.tag == 'publication-reference':\n",
    "                    for ib1, b1 in enumerate(a):\n",
    "                        print('        ',ib1, ',', b1.tag, ':', b1.text)\n",
    "                        if b1.tag == 'document-id':\n",
    "                            for ib2, b2 in enumerate(b1):\n",
    "                                print('            ',ib2, ',', b2.tag, ':', b2.text)\n",
    "                               \n",
    "            \n",
    "                if a.tag == 'classifications-cpc':\n",
    "                    for i2, a1 in enumerate(a):\n",
    "                        print('        ',i2, ',', a1.tag, ':', a1.text)\n",
    "                        if a1.tag == 'main-cpc':\n",
    "                            for i3, a2 in enumerate(a1):\n",
    "                                print('            ', i3, ',', a2.tag, ':', a2.text)\n",
    "                                if a2.tag == 'classification-cpc':\n",
    "                                    for i4, a3 in enumerate(a2):\n",
    "                                        print('                  ', i4, ',', a3.tag, ':', a3.text)\n",
    "                                        \n",
    "                        \n",
    "                if a.tag == 'invention-title':\n",
    "                    print(a.text)\n",
    "                    \n",
    "                \n",
    "        if item.tag == 'abstract':\n",
    "            for i2, a1 in enumerate(item):\n",
    "                print('        ',i2, ',', a1.tag, ':', a1.text)\n",
    "        \n",
    "    \n",
    "        if item.tag == 'description':\n",
    "            for i2, a1 in enumerate(item):\n",
    "                print('        ',i2, ',', a1.tag, ':', a1.text)"
   ]
  },
  {
   "cell_type": "code",
   "execution_count": 5,
   "metadata": {},
   "outputs": [],
   "source": [
    "''' Instantiate A Dataframe of Initial 9 XML files in USPTO XML Data Cache '''\n",
    "\n",
    "df = make_df(\"data/20200604_uspto_patents/patent-01.xml\")\n",
    "for i in range(2,10):\n",
    "    df_new = make_df(f\"data/7526_patents/patent-0{i}.xml\")\n",
    "    df_change = df.append(df_new,ignore_index=True)\n",
    "    df = df_change"
   ]
  },
  {
   "cell_type": "code",
   "execution_count": 6,
   "metadata": {},
   "outputs": [],
   "source": [
    "''' Populate the Dataframe with Remaining ~ 8,515 Files in USPTO XML Data Cache '''\n",
    "\n",
    "for i in range(10,8515):\n",
    "    df_new = make_df(f\"data/20200604_uspto_patents/patent-{i}.xml\")\n",
    "    df_change = df.append(df_new,ignore_index=True)\n",
    "    df = df_change"
   ]
  },
  {
   "cell_type": "code",
   "execution_count": 61,
   "metadata": {},
   "outputs": [
    {
     "data": {
      "text/plain": [
       "title         229\n",
       "country       229\n",
       "doc_number    229\n",
       "section       250\n",
       "class         250\n",
       "date          229\n",
       "total_text    229\n",
       "dtype: int64"
      ]
     },
     "execution_count": 61,
     "metadata": {},
     "output_type": "execute_result"
    }
   ],
   "source": [
    "df.replace('',np.NaN, inplace=True)\n",
    "df.isnull().sum()"
   ]
  },
  {
   "cell_type": "code",
   "execution_count": 7,
   "metadata": {},
   "outputs": [],
   "source": [
    "''' Identify and Drop Null Values (~ 229)'''\n",
    "df.replace('',np.NaN, inplace=True)\n",
    "df.dropna(inplace=True)\n",
    "df.reset_index(inplace = True)\n",
    "df.drop(columns=['index'], inplace=True)\n",
    "df['class'] = df['class'].apply(pd.to_numeric)"
   ]
  },
  {
   "cell_type": "code",
   "execution_count": 2,
   "metadata": {},
   "outputs": [],
   "source": [
    "'''CheckPoint: Save Processed Data'''\n",
    "\n",
    "# df.to_csv('data/xmlprocessed200604.csv')\n",
    "# df = pd.read_csv('data/xmlprocessed200604.csv',index_col=0)"
   ]
  },
  {
   "cell_type": "code",
   "execution_count": 104,
   "metadata": {},
   "outputs": [
    {
     "name": "stdout",
     "output_type": "stream",
     "text": [
      "section A has 15 different classes\n",
      "section B has 35 different classes\n",
      "section C has 17 different classes\n",
      "section D has 8 different classes\n",
      "section E has 7 different classes\n",
      "section F has 16 different classes\n",
      "section G has 13 different classes\n",
      "section H has 5 different classes\n"
     ]
    }
   ],
   "source": [
    "''' Create a Dictionary with Section Classes '''\n",
    "\n",
    "class_list = df.section.unique()\n",
    "\n",
    "class_dict = {}\n",
    "for des in class_list:\n",
    "    ddf = df[df.section == des]   # create a dummy df for each Catergorization 'Class' \n",
    "    class_dict[des] = ddf['class'].unique()   # populate the dictionary with Section 'Classes'\n",
    "    print(f\"section {des} has {len(ddf['class'].unique())} different classes\")"
   ]
  },
  {
   "cell_type": "code",
   "execution_count": 105,
   "metadata": {},
   "outputs": [],
   "source": [
    "''' Create DataFrames for each Section '''\n",
    "\n",
    "# df_list = [df_A, df_B, df_C, df_D, df_E, df_F, df_G, df_H]\n",
    "\n",
    "df_A = df[df.section == 'A']\n",
    "df_B = df[df.section == 'B']\n",
    "df_C = df[df.section == 'C']\n",
    "df_D = df[df.section == 'D']\n",
    "df_E = df[df.section == 'E']\n",
    "df_F = df[df.section == 'F']\n",
    "df_G = df[df.section == 'G']\n",
    "df_H = df[df.section == 'H']"
   ]
  },
  {
   "cell_type": "code",
   "execution_count": 106,
   "metadata": {},
   "outputs": [
    {
     "data": {
      "text/plain": [
       "<BarContainer object of 8 artists>"
      ]
     },
     "execution_count": 106,
     "metadata": {},
     "output_type": "execute_result"
    },
    {
     "data": {
      "image/png": "[encoded data removed]",
      "text/plain": [
       "<Figure size 432x288 with 1 Axes>"
      ]
     },
     "metadata": {},
     "output_type": "display_data"
    }
   ],
   "source": [
    "''' Create Bar Plot of Relative Recent Patent Section Classifciation Distribution '''\n",
    "\n",
    "df_list = [df_A, df_B, df_C, df_D, df_E, df_F, df_G, df_H]\n",
    "\n",
    "df_count_list = []\n",
    "for df in df_list:\n",
    "    df_count_list.append(len(df['total_text']))\n",
    "    \n",
    "x_c = class_list\n",
    "y_c = df_count_list\n",
    "\n",
    "plt.bar(x_c,y_c, color='b')"
   ]
  },
  {
   "cell_type": "code",
   "execution_count": 107,
   "metadata": {},
   "outputs": [],
   "source": [
    "sorted_class_list = []\n",
    "\n",
    "for k in sorted(df_count_list,reverse=True):\n",
    "    for i,v in enumerate(df_count_list):\n",
    "        if k == v:\n",
    "            sorted_class_list.append(class_list[i])"
   ]
  },
  {
   "cell_type": "code",
   "execution_count": 108,
   "metadata": {},
   "outputs": [
    {
     "data": {
      "text/plain": [
       "[1238, 990, 661, 60, 168, 482, 2381, 2284]"
      ]
     },
     "execution_count": 108,
     "metadata": {},
     "output_type": "execute_result"
    }
   ],
   "source": [
    "df_count_list"
   ]
  },
  {
   "cell_type": "code",
   "execution_count": 111,
   "metadata": {},
   "outputs": [
    {
     "data": {
      "text/plain": [
       "Text(0, 0.5, 'Number of Patents')"
      ]
     },
     "execution_count": 111,
     "metadata": {},
     "output_type": "execute_result"
    },
    {
     "data": {
      "image/png": "[encoded data removed]",
      "text/plain": [
       "<Figure size 432x288 with 1 Axes>"
      ]
     },
     "metadata": {},
     "output_type": "display_data"
    }
   ],
   "source": [
    "x_sc = sorted_class_list\n",
    "y_sc = sorted(df_count_list,reverse=True)\n",
    "\n",
    "plt.bar(x_sc,y_sc, color = 'blue')\n",
    "plt.title(\"2020-06-04 Cache\")\n",
    "plt.xlabel('Section')\n",
    "plt.ylabel('Number of Patents')"
   ]
  },
  {
   "cell_type": "code",
   "execution_count": 72,
   "metadata": {},
   "outputs": [],
   "source": [
    "''' Create Dictionaries of DataFrames for each Class \n",
    "     \n",
    "     Warning: There seems to be a bug here that ends up setting the main DataFrame (df) to 'H' \n",
    "     \n",
    "     '''\n",
    "\n",
    "# df_Adict = {}\n",
    "# for item in class_dict['A']:\n",
    "#     df_Adict[item] = df_A[df_A['class'] == item] # populate the dictionary with a dataframe for each class\n",
    "\n",
    "# df_Bdict = {}\n",
    "# for item in class_dict['B']:\n",
    "#     df_Bdict[item] = df_B[df_B['class'] == item]\n",
    "    \n",
    "# df_Cdict = {}\n",
    "# for item in class_dict['C']:\n",
    "#     df_Cdict[item] = df_C[df_C['class'] == item]\n",
    "    \n",
    "# df_Ddict = {}\n",
    "# for item in class_dict['D']:\n",
    "#     df_Ddict[item] = df_D[df_D['class'] == item]\n",
    "\n",
    "# df_Edict = {}\n",
    "# for item in class_dict['E']:\n",
    "#     df_Edict[item] = df_E[df_E['class'] == item]\n",
    "\n",
    "# df_Fdict = {}\n",
    "# for item in class_dict['F']:\n",
    "#     df_Fdict[item] = df_F[df_F['class'] == item]\n",
    "    \n",
    "# df_Gdict = {}\n",
    "# for item in class_dict['G']:\n",
    "#     df_Gdict[item] = df_G[df_G['class'] == item]\n",
    "\n",
    "# df_Hdict = {}\n",
    "# for item in class_dict['H']:\n",
    "#     df_Hdict[item] = df_H[df_H['class'] == item]"
   ]
  },
  {
   "cell_type": "code",
   "execution_count": 73,
   "metadata": {},
   "outputs": [
    {
     "data": {
      "text/plain": [
       "' Begin Text Processing '"
      ]
     },
     "execution_count": 73,
     "metadata": {},
     "output_type": "execute_result"
    }
   ],
   "source": [
    "''' Begin Text Processing '''"
   ]
  },
  {
   "cell_type": "code",
   "execution_count": 8,
   "metadata": {},
   "outputs": [],
   "source": [
    "''' Inform Stop List and Word List'''\n",
    "import nltk\n",
    "from nltk.corpus import words\n",
    "from nltk.corpus import stopwords\n",
    "stop_list = set(stopwords.words('english'))\n",
    "# nltk.download('words')\n",
    "word_list = words.words()\n",
    "word_list = set(word_list)\n",
    "\n",
    "stop_list.add('n')"
   ]
  },
  {
   "cell_type": "code",
   "execution_count": 9,
   "metadata": {},
   "outputs": [],
   "source": [
    "def preprocess_tokens1(string, word_list, stop_list):\n",
    "    ''' Remove all unwanted identifiers from a string into format for Doc2Vec processing.\n",
    "    input: dirty string, word_list (a list of all words in English language)\n",
    "    output: clean string (punctuation, spacing, numbers, stopwords, urls removed)\n",
    "    '''\n",
    "    cleaned = string.lower().split()\n",
    "    \n",
    "    '''make sure every string in cleaned is is word list '''\n",
    "    scrubbed = [item for item in cleaned if (item in word_list) and (item not in stop_list)]\n",
    "    return scrubbed"
   ]
  },
  {
   "cell_type": "code",
   "execution_count": null,
   "metadata": {},
   "outputs": [],
   "source": []
  },
  {
   "cell_type": "code",
   "execution_count": 10,
   "metadata": {},
   "outputs": [],
   "source": [
    "def preprocess_tokens2(string, word_list, stop_list):\n",
    "    ''' Remove all unwanted identifiers from a string into format for Tfidf Vectorization and categorization processing.\n",
    "    input: dirty string, word_list (a list of all words in English language)\n",
    "    output: clean string (punctuation, spacing, numbers, stopwords, urls removed)\n",
    "    '''\n",
    "    cleaned = string.lower().split()\n",
    "    \n",
    "    '''make sure every string in cleaned is is word list '''\n",
    "    scrubbed = [item for item in cleaned if (item in word_list) and (item not in stop_list)]\n",
    "    return \" \".join(scrubbed)"
   ]
  },
  {
   "cell_type": "code",
   "execution_count": 11,
   "metadata": {},
   "outputs": [],
   "source": [
    "''' Process text for Doc2Vec '''\n",
    "df['text_processed1'] = df['total_text'].apply(lambda x: preprocess_tokens1(x, word_list, stop_list))"
   ]
  },
  {
   "cell_type": "code",
   "execution_count": 12,
   "metadata": {},
   "outputs": [],
   "source": [
    "''' Process text for TFIDF '''\n",
    "df['text_processed2'] = df['total_text'].apply(lambda x: preprocess_tokens2(x, word_list, stop_list))"
   ]
  },
  {
   "cell_type": "code",
   "execution_count": 3,
   "metadata": {},
   "outputs": [],
   "source": [
    "# import pandas as pd\n",
    "# import numpy as np\n",
    "# from lxml import objectify\n",
    "# import xml.etree.ElementTree as et \n",
    "\n",
    "# from collections import defaultdict\n",
    "# from sklearn.metrics import mean_squared_error, confusion_matrix, log_loss, make_scorer\n",
    "# from sklearn.linear_model import LogisticRegression\n",
    "# from sklearn.naive_bayes import GaussianNB, BernoulliNB, MultinomialNB\n",
    "# from sklearn.tree import DecisionTreeRegressor, DecisionTreeClassifier\n",
    "# from sklearn.ensemble import RandomForestRegressor, RandomForestClassifier, GradientBoostingClassifier\n",
    "# from sklearn.linear_model import SGDClassifier\n",
    "\n",
    "\n",
    "# import matplotlib.pyplot as plt\n",
    "# plt.style.use('ggplot')"
   ]
  },
  {
   "cell_type": "code",
   "execution_count": 2,
   "metadata": {},
   "outputs": [],
   "source": [
    "'''CheckPoint: Save Processed Data'''\n",
    "\n",
    "# df.to_csv('data/textprocessed200604.csv')\n",
    "# df = pd.read_csv('data/textprocessed200604.csv',index_col=0)"
   ]
  },
  {
   "cell_type": "code",
   "execution_count": 14,
   "metadata": {},
   "outputs": [],
   "source": [
    "''' Continue to Develop a Document Similarity Model Using Gensim '''\n",
    "\n",
    "\n",
    "from gensim import corpora\n",
    "text = df['text_processed1']\n",
    "texts = list(text.values)\n",
    "dictionary = corpora.Dictionary(texts)    # create dictionary for total text\n",
    "corpus = [dictionary.doc2bow(text) for text in texts]   # create corpus "
   ]
  },
  {
   "cell_type": "code",
   "execution_count": 15,
   "metadata": {},
   "outputs": [],
   "source": [
    "''' Employ Latent Semantic Indexing Model to Populate Vector Space '''\n",
    "\n",
    "from gensim import models\n",
    "lsi = models.LsiModel(corpus, id2word=dictionary, num_topics=2)"
   ]
  },
  {
   "cell_type": "code",
   "execution_count": 16,
   "metadata": {},
   "outputs": [],
   "source": [
    "def get_patent_from_number(number):\n",
    "    ''' Prints relativley important data about a USPTO patent acround to the number in the XML download cache\n",
    "    input: DataFrame number\n",
    "    output: prints title, document number, section\n",
    "    '''\n",
    "    \n",
    "    MS = df.iloc[number]\n",
    "    print('Title :', MS['title'])\n",
    "    print('Document Number : ', MS['doc_number'])\n",
    "    print('Section :', MS['section'])\n",
    "#     print('Description :', MS['total_text'])"
   ]
  },
  {
   "cell_type": "code",
   "execution_count": 27,
   "metadata": {},
   "outputs": [],
   "source": [
    "''' Interface for Comparing Input Description'''\n",
    "\n",
    "patent_inquiry = '''\n",
    "An object of the present invention is to provide an apparatus for producing nanofibers and a nozzle head use for the same which can be manufactured by drilling and is capable of efficiently carrying molten resin on a gas flow.A nozzle head  TECHNICAL FIELD The present invention relates to an apparatus for producing nanofibers and a nozzle head used for the same. BACKGROUND OF THE INVENTION A conventional apparatus for producing nonwoven fabrics is disclosed in Patent Document 1. This apparatus for producing nonwoven fabrics comprises, as shown in  This melt blow unit  DESCRIPTION OF PRIOR ART Patent Literature Patent Literature 1: JP2010-185153A SUMMARY OF INVENTION Problems to be Solved by the Invention In the above-mentioned apparatus for producing nonwoven fabrics, however, the hot blast passages  The present invention was made in consideration of the above problems, and an object of the present invention is to provide an apparatus for producing nanofibers and a nozzle head use for the same which can manufacture by drilling and efficiently carry molten resin on a gas flow. Means for Solving the Problems According to the present invention, there is provided an apparatus for producing nanofibers comprising a raw material discharge surface on which a raw material flow passage for discharging a liquid raw material is arranged, and a gas discharge surface which is arranged with an angle α (0<α≤90°) toward said raw material discharge surface and on which a gas flow passage for ejecting gas is arranged, wherein said raw material flow passage is orthogonal to said raw material discharge surface, said gas flow passage is orthogonal to said gas discharge surface, and said raw material flow passage and said gas flow passage are arranged so that said liquid raw material discharged from said raw material flow passage meets gas ejected from said gas flow passage. According to the present invention, there is provided an apparatus for producing nanofibers comprising a raw material discharge surface on which a raw material flow passage for discharging a liquid raw material is arranged, a gas discharge surface which is arranged downwardly from said raw material discharge surface and on which a gas flow passage for ejecting gas is arranged, a connecting surface which is connected with said raw material discharge surface and said gas discharge surface, and is arranged with an angle β(0≤β<90°) toward said raw material discharge surface, wherein said raw material flow passage is orthogonal to said raw material discharge surface, said gas flow passage is orthogonal to said gas discharge surface, an opening of said gas flow passage contacts with said connecting surface, and said raw material flow passage and said gas flow passage are arranged so that said liquid raw material discharged from said raw material flow passage reaches to the opening of said gas flow passage along said connecting surface. According to the present invention, there is provided a nozzle head used for an apparatus for producing nanofibers comprising: a raw material discharge surface on which a raw material flow passage for discharging a liquid raw material is arranged, and a gas discharge surface which is arranged with an angle α (0<α≤90°) toward said raw material discharge surface and on which a gas flow passage for ejecting gas is arranged, wherein said raw material flow passage is orthogonal to said raw material discharge surface, said gas flow passage is orthogonal to said gas discharge surface, and said raw material flow passage and said gas flow passage are arranged so that said liquid raw material discharged from said raw material flow passage meets gas ejected from said gas flow passage. According to the present invention, there is provided a nozzle head used for an apparatus for producing nanofibers comprising: a raw material discharge surface on which a raw material flow passage for discharging a liquid raw material is arranged, a gas discharge surface which is arranged downwardly from said raw material discharge surface, and on which a gas flow passage for ejecting gas is arranged, a connecting surface which is connected with said raw material discharge surface and said gas discharge surface, and is arranged with an angle β (0≤β90°) toward said raw material discharge surface, wherein said raw material flow passage is orthogonal to said raw material discharge surface, said gas flow passage is orthogonal to said gas discharge surface, an opening of said gas flow passage contacts with said connecting surface, and said raw material flow passage and said gas flow passage are arranged so that said liquid raw material discharged from said raw material flow passage reaches to the opening of said gas flow passage along said connecting surface. Effect of the Invention According to the present invention, a raw material flow passage is formed so as to be orthogonal to a raw material discharge surface, and a gas flow passage is formed so as to be orthogonal to a gas discharge surface. Therefore, the raw material flow passage is formed on the raw material discharge surface by drilling and the gas flow passage is formed on the gas discharge surface. It becomes possible to join directly or indirectly with an angle the liquid raw material discharged from the raw material flow passage to a gas flow ejected from the gas flow passage through a connecting surface connected to the raw material discharge surface and the gas discharge surface. It can be achieved to manufacture precisely by drilling and to carry efficiently the liquid raw material on the gas flow. \n",
    " DETAILED DESCRIPTION OF PREFERRED EMBODIMENTS The preferred embodiment of the present invention will be described hereinafter. The present invention is easily applicable to a structure other than the description of embodiments of the present invention within a scope not inconsistent with an object of the invention. According to the present invention, nanofibers are formed by supplying a liquid raw material to gas ejected under relatively high pressure. In the description, a term “gas” without specifying composition means gases consisting of any composition and a molecular structure. Additionally, in the description, a term “raw material” means all of materials applicable for forming the nanofibers. In the embodiments hereinafter, an explanation will be made for an example using synthetic resin as the “raw material”, but not limited to, various kinds of composition material will be usable. A term “liquid raw material” in the description does not limit property of the material to liquid. The “liquid raw material”, for example, includes “solvent” which is prepared by dissolving in advance a solid raw material or a liquid raw material as a solute in a predetermined solvent so that a predetermined concentration is obtained. Additionally, “liquid raw material” also includes “molten raw material” which the solid raw material is molten. In short, the “liquid raw material” of the present invention needs property having viscosity enough to supply (eject, discharge) “raw material” from supply holes (ejection holes, discharge holes), and the “raw material” having such liquid property is described as “liquid raw material” in the present invention. A basic concept of the present invention is, as shown in (I)  Additionally, as shown in (II)  Accordingly, the liquid raw material discharged from the raw material flow passage  In  Herein, the axis line P of the raw material flow passage  \n",
    " \n",
    " \n",
    " The raw material supply tangent angle α should be determined by the distance “a”, the distance “b”, and the distance “d”, and moreover, should be determined by relation among the opening diameter “c” of the high-pressure gas, pressure and temperature of the ejected gas the gas flow passage  Regarding an arrangement condition of the raw material flow passage  First Embodiment Hereinafter, an apparatus for producing nanofibers according to a first embodiment of the present invention will be described referring to  The apparatus for producing nanofibers  As shown in  As shown in  The nozzle head  In the present embodiments, the raw material flow passage  An opening on the back surface  The opening on the back surface  The such structure is only an example, and if there are provided the raw material flow passage  A description will be made of operation of the apparatus for producing nanofibers  According to the apparatus for producing nanofibers  It can be achieved to manufacture precisely by drilling and to carry efficiently the solvent on the gas flow. The apparatus for producing nanofibers  (Variation 1 of the First Embodiment) Variation 2 of the First Embodiment Variation 3 of the First Embodiment Variation 4 of the First Embodiment Variation 5 of the First Embodiment Variation 6 of the First Embodiment (Variation 7 of the First Embodiment) (Variation 8 of the First Embodiment) The first portion  (Variation 9 of the First Embodiment) (Variation 10 of the First Embodiment) The first portion  (Variation 11 of the First Embodiment) (Variation 12 of the First Embodiment) (Variation 13 of the First Embodiment) (Variation 14 of the First Embodiment) (Variation 15 of the First Embodiment) In Table 1, an outline of the basic structure and the structures of the variations 1 to 15 of the nozzle head  \n",
    " Second Embodiment Hereinafter, an apparatus for producing nanofibers according to a second embodiment of the present invention will be described referring to  The apparatus for producing nanofibers  The nozzle head  The nozzle head  The connecting surface  According to the present embodiment, the raw material flow passage  A description will be made of operation of the apparatus for producing nanofibers  According to the apparatus for producing nanofibers  Third Embodiment Hereinafter, an apparatus for producing nanofibers according to a third embodiment of the present invention will be described referring to  The apparatus for producing nanofibers  The apparatus for producing nanofibers  As shown in  The nozzle head  In the present embodiments, the raw material flow passage  A plurality of the raw material flow passages  A plurality of the gas flow passage  The such structure is only an example, and if there are provided the raw material flow passage  A description will be made of operation of the apparatus for producing nanofibers  According to the apparatus for producing nanofibers  (Variation 1 of the Third Embodiment) (Variation 2 of the Third Embodiment) (Variation 3 of the Third Embodiment) (Variation 4 of the Third Embodiment) The first portion  (Variation 5 of the Third Embodiment) The nozzle head  In the nozzle head  (Variation 6 of the Third Embodiment) (Variation 7 of the Third Embodiment) The nozzle head  In the nozzle head  (Variation 8 of the Third Embodiment) In table 2, an outline of the basic structure and the structures of the variations 1 to 8 of the nozzle head  \n",
    " Though description is made of the embodiments of the present invention in detail, the present invention is not limited to the prescribed embodiments, and various modifications may be possible within a scope of the present invention. For example, in the above embodiment, the horizontal apparatus for producing nanofibers is disclosed which the molten resin and the gas ejection hole are provided in a horizontal direction, however it is not limited to, and there is no problem to arrange the vertical apparatus and the nozzle head in the downward direction. Rather, such vertical apparatus is capable of efficiently preventing influence by the gravity. In each embodiment and variation, positions of the raw material flow passage and the gas flow passage may be replaced each other. Specifically, in the nozzle head  The extruding means is described as the screw, an intermittent extrusion with a piston by supplying solution sequentially such as a die casting may be applicable. The apparatus for producing nanofibers and the nozzle head according to the present invention preferably comprise a raw material temperature control function (not illustrated) in accordance with conditions of the liquid raw material and production of the nanofibers. The apparatus for producing nanofibers and the nozzle head according to the present invention preferably comprises a gas temperature control function (not illustrated) for controlling a temperature of the gas at the gas exit.\n",
    "\n",
    "'''"
   ]
  },
  {
   "cell_type": "code",
   "execution_count": 28,
   "metadata": {},
   "outputs": [],
   "source": [
    "''' Vectorize Inquiry for Latent Semantic Indexing '''\n",
    "\n",
    "vec_bow = dictionary.doc2bow(patent_inquiry.lower().split())\n",
    "vec_lsi = lsi[vec_bow]  # convert the query to LSI space\n",
    "# print(vec_lsi)"
   ]
  },
  {
   "cell_type": "code",
   "execution_count": 29,
   "metadata": {},
   "outputs": [],
   "source": [
    "''' Put the Index in LSI And Reference it '''\n",
    "\n",
    "from gensim import similarities\n",
    "index = similarities.MatrixSimilarity(lsi[corpus])  # transform corpus to LSI space and index it\n",
    "index.save('data/inter_patent.index')\n",
    "index = similarities.MatrixSimilarity.load('data/inter_patent.index')\n",
    "\n",
    "sims = index[vec_lsi]  # perform a similarity query against the corpus"
   ]
  },
  {
   "cell_type": "code",
   "execution_count": 35,
   "metadata": {},
   "outputs": [
    {
     "name": "stdout",
     "output_type": "stream",
     "text": [
      "1,\n",
      "Title : NANOFIBER MANUFACTURING DEVICE AND HEAD USED FOR SAME\n",
      "Document Number :  20200173057\n",
      "Section : D\n",
      "     \n",
      "2,\n",
      "Title : CONNECTOR FRAME\n",
      "Document Number :  20200176903\n",
      "Section : H\n",
      "     \n",
      "3,\n",
      "Title : ELECTRICAL CONTACT AND CARRIER ASSOCIATED THEREWITH\n",
      "Document Number :  20200176911\n",
      "Section : H\n",
      "     \n",
      "4,\n",
      "Title : SIGNAL PROCESSING METHOD AND IMAGING SYSTEM FOR SCATTER CORRECTION IN COMPUTED TOMOGRAPHY\n",
      "Document Number :  20200170599\n",
      "Section : A\n",
      "     \n",
      "5,\n",
      "Title : Oral Care Compositions With Improved Tin Compatability\n",
      "Document Number :  20200170897\n",
      "Section : A\n",
      "     \n"
     ]
    }
   ],
   "source": [
    "''' Return Top 5 Most Similar Patents to Patent Inquiry '''\n",
    "\n",
    "sims = sorted(enumerate(sims), key=lambda item: -item[1])\n",
    "\n",
    "# to include cosine similarity in print\n",
    "for i in range(5):\n",
    "    print(f\"{i+1}, Document Similarity is {sims[i][1]}\")\n",
    "    get_patent_from_number(sims[i][0])\n",
    "    print(\"     \")\n",
    "\n",
    "    \n",
    "# # to disclude cosine similarity in print\n",
    "# for i in range(5):\n",
    "#     print(f\"{i+1},\")\n",
    "#     get_patent_from_number(sims[i][0])\n",
    "#     print(\"     \")"
   ]
  },
  {
   "cell_type": "code",
   "execution_count": 3,
   "metadata": {},
   "outputs": [],
   "source": [
    "''' To Continue to Develope a Classification Model '''\n",
    "from sklearn.feature_extraction.text import TfidfVectorizer\n",
    "\n",
    "'''Create 'Corpa' and Vectorize the Tokens'''\n",
    "\n",
    "corpa = df['text_processed2']\n",
    "vectorizer = TfidfVectorizer()\n",
    "X = vectorizer.fit_transform(corpa.values)\n",
    "X = X.todense()\n",
    "y = df['section'].values"
   ]
  },
  {
   "cell_type": "code",
   "execution_count": null,
   "metadata": {},
   "outputs": [],
   "source": [
    "''' Split the Data into Training and Test Sections '''\n",
    "\n",
    "from sklearn.model_selection import train_test_split\n",
    "\n",
    "X_train, X_test, y_train, y_test = train_test_split(X, y, random_state=23, stratify=y, test_size = 0.2)"
   ]
  },
  {
   "cell_type": "code",
   "execution_count": null,
   "metadata": {},
   "outputs": [],
   "source": [
    "''' Train Predictive Clssification Models '''"
   ]
  },
  {
   "cell_type": "code",
   "execution_count": 27,
   "metadata": {},
   "outputs": [
    {
     "name": "stdout",
     "output_type": "stream",
     "text": [
      "Logistic Regression Model Score: 0.6938898971566848\n"
     ]
    }
   ],
   "source": [
    "#logistic model\n",
    "lr = LogisticRegression(class_weight= 'balanced')\n",
    "lr.fit(X_train, y_train);\n",
    "lr_predict = lr.predict(X_test)\n",
    "lr_score = lr.score(X_test, y_test)\n",
    "print('Logistic Regression Model Score: {}'.format(lr_score))"
   ]
  },
  {
   "cell_type": "code",
   "execution_count": 28,
   "metadata": {},
   "outputs": [
    {
     "name": "stdout",
     "output_type": "stream",
     "text": [
      "Random Forest Model Score: 0.6291591046581972\n"
     ]
    }
   ],
   "source": [
    "#random forest\n",
    "rf = RandomForestClassifier(class_weight='balanced',\n",
    "                           n_estimators=100,\n",
    "                           max_features='auto',\n",
    "                           random_state=0, n_jobs=-1)\n",
    "rf.fit(X_train, y_train);\n",
    "rf_predict = rf.predict(X_test)\n",
    "rf_score = rf.score(X_test, y_test)\n",
    "print(\"Random Forest Model Score: {}\".format(rf_score))"
   ]
  },
  {
   "cell_type": "code",
   "execution_count": 29,
   "metadata": {},
   "outputs": [
    {
     "name": "stdout",
     "output_type": "stream",
     "text": [
      "SGD Model Score: 0.7096188747731398\n"
     ]
    }
   ],
   "source": [
    "#stochastic gradient descent\n",
    "sgd = SGDClassifier(class_weight=\"balanced\")\n",
    "sgd.fit(X_train, y_train);\n",
    "# SGDClassifier(max_iter=5)\n",
    "sgd_predict = sgd.predict(X_test)\n",
    "sgd_score = sgd.score(X_test, y_test)\n",
    "print(\"SGD Model Score: {}\".format(sgd_score))"
   ]
  },
  {
   "cell_type": "code",
   "execution_count": 30,
   "metadata": {},
   "outputs": [
    {
     "name": "stdout",
     "output_type": "stream",
     "text": [
      "NB Model Score: 0.5638233514821537\n"
     ]
    }
   ],
   "source": [
    "#naive_bayes\n",
    "nb = MultinomialNB()\n",
    "nb.fit(X_train, y_train);\n",
    "nb_predict = nb.predict(X_test)\n",
    "nb_score = nb.score(X_test, y_test)\n",
    "print(\"NB Model Score: {}\".format(nb_score))"
   ]
  },
  {
   "cell_type": "code",
   "execution_count": 87,
   "metadata": {},
   "outputs": [],
   "source": [
    "''' Run Vectorized Inquiry on Predictive Model '''\n",
    "\n",
    "inquiry = [patent_inquiry.lower()]\n",
    "classify = vectorizer.transform(inquiry)\n",
    "classify = classify.todense()\n",
    "\n",
    "sgd.predict(classify)"
   ]
  },
  {
   "cell_type": "code",
   "execution_count": 1,
   "metadata": {},
   "outputs": [
    {
     "data": {
      "text/plain": [
       "' Potentially Useful But Unused Information '"
      ]
     },
     "execution_count": 1,
     "metadata": {},
     "output_type": "execute_result"
    }
   ],
   "source": [
    "''' Potentially Useful But Unused Information '''"
   ]
  },
  {
   "cell_type": "code",
   "execution_count": null,
   "metadata": {},
   "outputs": [],
   "source": [
    "# from gensim.models import doc2vec\n",
    "\n",
    "# model = doc2vec.Doc2Vec(texts)\n",
    "\n",
    "# from gensim.models import LsiModel\n",
    "\n",
    "# model = LsiModel(corpus, id2word=dictionary)\n",
    "# vectorized_corpus = model[corpus]  # vectorize input copus in BoW format\n",
    "\n",
    "# X = vectorized_corpus\n",
    "# y = df['section']"
   ]
  },
  {
   "cell_type": "code",
   "execution_count": null,
   "metadata": {},
   "outputs": [],
   "source": [
    "# def remove_once(texts):\n",
    "#     frequency = defaultdict(int)\n",
    "#     for text in texts:\n",
    "#         for token in text:\n",
    "#             frequency[token] += 1\n",
    "    \n",
    "#     texts = [[token for token in text if frequency[token] > 1] for text in texts]\n",
    "\n",
    "#     return texts"
   ]
  },
  {
   "cell_type": "code",
   "execution_count": null,
   "metadata": {},
   "outputs": [],
   "source": [
    "# from nltk.cluster import KMeansClusterer\n",
    "# from sklearn import cluster\n",
    "# from sklearn import metrics# training datasentences = [[‘this’, ‘is’, ‘the’, ‘good’, ‘machine’, ‘learning’, ‘book’],\n",
    "#             [‘this’, ‘is’,  ‘another’, ‘book’],\n",
    "#             [‘one’, ‘more’, ‘book’],\n",
    "#             [‘this’, ‘is’, ‘the’, ‘new’, ‘post’],\n",
    "#           [‘this’, ‘is’, ‘about’, ‘machine’, ‘learning’, ‘post’],\n",
    "#             [‘and’, ‘this’, ‘is’, ‘the’, ‘last’, ‘post’]]# training model\n",
    "\n",
    "# model = Word2Vec(sentences, min_count=1)# get vector data\n",
    "# X = model[model.wv.vocab]\n",
    "# print (X)print (model.similarity(‘this’, ‘is’))print (model.similarity(‘post’, ‘book’))print (model.most_similar(positive=[‘machine’], negative=[], topn=2))print (model[‘the’])print (list(model.wv.vocab))print (len(list(model.wv.vocab)))NUM_CLUSTERS=3\n",
    "# kclusterer = KMeansClusterer(NUM_CLUSTERS, distance=nltk.cluster.util.cosine_distance, repeats=25)\n",
    "# assigned_clusters = kclusterer.cluster(X, assign_clusters=True)\n",
    "# print (assigned_clusters)words = list(model.wv.vocab)\n",
    "# for i, word in enumerate(words):\n",
    "#     print (word + “:” + str(assigned_clusters[i]))kmeans = cluster.KMeans(n_clusters=NUM_CLUSTERS)\n",
    "# kmeans.fit(X)labels = kmeans.labels_\n",
    "# centroids = kmeans.cluster_centers_print (“Cluster id labels for inputted data”)\n",
    "# print (labels)\n",
    "# print (“Centroids data”)\n",
    "# print (centroids)print (“Score (Opposite of the value of X on the K-means objective which is Sum of distances of samples to their closest cluster center):“)\n",
    "# print (kmeans.score(X))silhouette_score = metrics.silhouette_score(X, labels, metric=‘euclidean’)print (“Silhouette_score: “)\n",
    "# print (silhouette_score)"
   ]
  },
  {
   "cell_type": "code",
   "execution_count": 29,
   "metadata": {},
   "outputs": [],
   "source": [
    "# def RFC_model(X_train, X_test, y_train, y_test, instance):\n",
    "#     '''\n",
    "#     input: training and testing sets\n",
    "#     output: print log loss and score,\n",
    "#             return: Random Forest model, y predictions\n",
    "#     '''\n",
    "#     rf = RandomForestClassifier(n_estimators=100,\n",
    "#                            max_features='auto',\n",
    "#                            random_state=0, n_jobs=-1)\n",
    "#     rf.fit(X_train, y_train)\n",
    "#     print(f\"log loss for {instance} = {log_loss(y_test, rf.predict_proba(X_test))}\")\n",
    "#     print(f\"accuracy of {instance} = {rf.score(X_test, y_test)}\")\n",
    "#     return rf, rf.predict(X_test)"
   ]
  },
  {
   "cell_type": "code",
   "execution_count": null,
   "metadata": {},
   "outputs": [],
   "source": [
    "# >>> from sklearn.preprocessing import StandardScaler\n",
    "# >>> from sklearn.pipeline import make_pipeline\n",
    "# >>> X = np.array([[-1, -1], [-2, -1], [1, 1], [2, 1]])\n",
    "# >>> Y = np.array([1, 1, 2, 2])\n",
    "# >>> # Always scale the input. The most convenient way is to use a pipeline.\n",
    "# >>> clf = make_pipeline(StandardScaler(),\n",
    "# ...                     SGDClassifier(max_iter=1000, tol=1e-3))\n",
    "# >>> clf.fit(X, Y)\n",
    "# Pipeline(steps=[('standardscaler', StandardScaler()),\n",
    "#                 ('sgdclassifier', SGDClassifier())])\n",
    "# >>> print(clf.predict([[-0.8, -1]]))"
   ]
  }
 ],
 "metadata": {
  "kernelspec": {
   "display_name": "Python 3",
   "language": "python",
   "name": "python3"
  },
  "language_info": {
   "codemirror_mode": {
    "name": "ipython",
    "version": 3
   },
   "file_extension": ".py",
   "mimetype": "text/x-python",
   "name": "python",
   "nbconvert_exporter": "python",
   "pygments_lexer": "ipython3",
   "version": "3.7.7"
  }
 },
 "nbformat": 4,
 "nbformat_minor": 4
}
